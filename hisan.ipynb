{
  "nbformat": 4,
  "nbformat_minor": 0,
  "metadata": {
    "colab": {
      "provenance": []
    },
    "kernelspec": {
      "name": "python3",
      "display_name": "Python 3"
    },
    "language_info": {
      "name": "python"
    }
  },
  "cells": [
    {
      "cell_type": "markdown",
      "source": [
        "Write a Python function to find the maximum of three numbers Sample input:\n",
        "34,12,7 Sample output: 34'"
      ],
      "metadata": {
        "id": "5sBjEkoTbA2I"
      }
    },
    {
      "cell_type": "code",
      "execution_count": 35,
      "metadata": {
        "colab": {
          "base_uri": "https://localhost:8080/"
        },
        "id": "ovYOQ5qZNc3H",
        "outputId": "eb0c7155-2f1d-4d63-a72b-f5e45ff1967e"
      },
      "outputs": [
        {
          "output_type": "stream",
          "name": "stdout",
          "text": [
            "enter first number34\n",
            "enter second number56\n",
            "enter third number23\n",
            "56\n"
          ]
        }
      ],
      "source": [
        "def max(a, b, c):\n",
        "\n",
        "  if a > b:\n",
        "    if a > c:\n",
        "      return a\n",
        "    else:\n",
        "      return c\n",
        "  else:\n",
        "    if b > c:\n",
        "      return b\n",
        "    else:\n",
        "      return c\n",
        "a=int(input('enter first number'))\n",
        "b=int(input('enter second number'))\n",
        "c=int(input('enter third number'))\n",
        "print (max(a,b,c))\n",
        "\n"
      ]
    },
    {
      "cell_type": "markdown",
      "source": [
        " Write a Python function called exponent(base,exp) that returns an integer\n",
        " value of base raises to the power of exp. Sample input: Enter the base: 2\n",
        " Enter the exponent: 3 Sample output: 8"
      ],
      "metadata": {
        "id": "EdoB-ki7bcjH"
      }
    },
    {
      "cell_type": "code",
      "source": [
        "def exponent(base, exp):\n",
        "  if exp == 0:\n",
        "    return 1\n",
        "  else:\n",
        "    return base * exponent(base, exp - 1)\n",
        "\n",
        "base = int(input(\"Enter the base: \"))\n",
        "exp = int(input(\"Enter the exponent: \"))\n",
        "\n",
        "print(exponent(base, exp))\n"
      ],
      "metadata": {
        "colab": {
          "base_uri": "https://localhost:8080/"
        },
        "id": "2B6xQ8a3Vd23",
        "outputId": "9e90ed76-bbc1-4ca4-8513-4e8bbb94fc0a"
      },
      "execution_count": 6,
      "outputs": [
        {
          "output_type": "stream",
          "name": "stdout",
          "text": [
            "Enter the base: 4\n",
            "Enter the exponent: 7\n",
            "16384\n"
          ]
        }
      ]
    },
    {
      "cell_type": "markdown",
      "source": [
        "write a Python function that takes a positive integer and returns the sum of\n",
        " the cube of all the positive integers smaller than the specified number.\n",
        " Sample input: 4 Sample output: 36"
      ],
      "metadata": {
        "id": "zRyBskm2bhSy"
      }
    },
    {
      "cell_type": "code",
      "source": [
        "def sum_of_cubes(n):\n",
        "  sum = 0\n",
        "  for i in range(1, n):\n",
        "    sum += i ** 3\n",
        "  return sum\n",
        "\n",
        "n = int(input(\"Enter a positive integer: \"))\n",
        "print(sum_of_cubes(n))\n"
      ],
      "metadata": {
        "colab": {
          "base_uri": "https://localhost:8080/"
        },
        "id": "EN269q1CV3PP",
        "outputId": "0ea10f1a-60f2-47c6-90e8-43c0ccc05668"
      },
      "execution_count": 7,
      "outputs": [
        {
          "output_type": "stream",
          "name": "stdout",
          "text": [
            "Enter a positive integer: 23\n",
            "64009\n"
          ]
        }
      ]
    },
    {
      "cell_type": "markdown",
      "source": [
        "Write a Python program which iterates from 1 to 10. For multiples of 2, print\n",
        "“Fizz” instead of the number and for the multiples of 5, print “Buzz”. For\n",
        "numbers which are multiples of both 2 and 5, print “FizzBuzz”. Sample input:\n",
        "numbers from 1 to 10 Sample output: 1 Fizz 3 Fizz Buzz Fizz 7 Fizz 9\n",
        "FizzBuzz"
      ],
      "metadata": {
        "id": "IL1gNvAW1ImI"
      }
    },
    {
      "cell_type": "code",
      "source": [
        "def fizz_buzz(num):\n",
        "    if num%3==5and num%5==2:\n",
        "        return 'FizzBuzz'\n",
        "\n",
        "    elif num % 10 == 0:\n",
        "        return 'Fizz'\n",
        "\n",
        "    elif num % 5==0:\n",
        "        return 'Buzz'\n",
        "    else:\n",
        "        return num\n",
        "\n",
        "for n in range(1,10):\n",
        "    print(fizz_buzz(n))\n"
      ],
      "metadata": {
        "colab": {
          "base_uri": "https://localhost:8080/"
        },
        "id": "osAxEcBMYLHH",
        "outputId": "3f67488f-8f94-498e-cc43-643bd2a7c7fe"
      },
      "execution_count": 36,
      "outputs": [
        {
          "output_type": "stream",
          "name": "stdout",
          "text": [
            "1\n",
            "2\n",
            "3\n",
            "4\n",
            "Buzz\n",
            "6\n",
            "7\n",
            "8\n",
            "9\n"
          ]
        }
      ]
    },
    {
      "cell_type": "code",
      "source": [
        "\n"
      ],
      "metadata": {
        "colab": {
          "base_uri": "https://localhost:8080/"
        },
        "id": "-1IxWPwrfOQQ",
        "outputId": "6d8ac729-c02c-4374-bd05-235cd23498ba"
      },
      "execution_count": 31,
      "outputs": [
        {
          "output_type": "stream",
          "name": "stdout",
          "text": [
            "The most frequent item is: 2\n"
          ]
        }
      ]
    },
    {
      "cell_type": "markdown",
      "source": [
        "Write a Python function to find the sum of squares of the numbers in a list.\n",
        "Sample input: 2,1,3,1 Sample output: 15"
      ],
      "metadata": {
        "id": "-pBFp6kIiuV3"
      }
    },
    {
      "cell_type": "code",
      "source": [
        "def sum_of_squares(nums):\n",
        "  a=int(input(\"enter the first number:\"))\n",
        "  b=int(input(\"enter the second number:\"))\n",
        "  a=int(input(\"enter the first number:\"))\n",
        "  b=int(input(\"enter the second number:\"))\n",
        "  sum_of_squares = 0\n",
        "  for num in nums:\n",
        "    sum_of_squares += num ** 2\n",
        "  return sum_of_squares\n",
        "\n",
        "nums = [2, 1, 3, 1]\n",
        "sum_of_squares = sum_of_squares(nums)\n",
        "\n",
        "print(f\"The sum of squares is: {sum_of_squares}\")\n"
      ],
      "metadata": {
        "colab": {
          "base_uri": "https://localhost:8080/"
        },
        "id": "xsCfhx5vfsfv",
        "outputId": "021800ac-c908-4c94-e1e2-bfa2ce8c2886"
      },
      "execution_count": 25,
      "outputs": [
        {
          "output_type": "stream",
          "name": "stdout",
          "text": [
            "The sum of squares is: 15\n"
          ]
        }
      ]
    },
    {
      "cell_type": "markdown",
      "source": [
        ".Write a Python function to calculate the factorial of a number (a nonnegative\n",
        "integer). The function accepts the number as an argument. Sample input: 3\n",
        "Sample output: 6"
      ],
      "metadata": {
        "id": "4waTNLdIqKFR"
      }
    },
    {
      "cell_type": "code",
      "source": [
        "def factorial(n):\n",
        "  if n == 0:\n",
        "    return 1\n",
        "  else:\n",
        "    return n * factorial(n-1)\n",
        "n = int(input(\"Enter a non-negative integer: \"))\n",
        "print(f\"The factorial of {n} is: {factorial(n)}\")\n"
      ],
      "metadata": {
        "colab": {
          "base_uri": "https://localhost:8080/"
        },
        "id": "i0haoaV3qM6Q",
        "outputId": "358ef727-97eb-4d02-952e-a48e2990342b"
      },
      "execution_count": 33,
      "outputs": [
        {
          "output_type": "stream",
          "name": "stdout",
          "text": [
            "Enter a non-negative integer: 6\n",
            "The factorial of 6 is: 720\n"
          ]
        }
      ]
    },
    {
      "cell_type": "markdown",
      "source": [
        "Write a Python program using for loop that will iterate from 1 to 15. For each\n",
        "iteration, check if the current number is odd or even, and display the message\n",
        "to the screen as odd or even. Sample input: 1….15 Sample output: 1-odd 2-\n",
        "even …. 15-odd"
      ],
      "metadata": {
        "id": "9_GC-Stmr2la"
      }
    },
    {
      "cell_type": "code",
      "source": [
        "for i in range(1, 16):\n",
        "  if i % 2 == 0:\n",
        "    print(f\"{i}-even\")\n",
        "  else:\n",
        "    print(f\"{i}-odd\")\n"
      ],
      "metadata": {
        "colab": {
          "base_uri": "https://localhost:8080/"
        },
        "id": "QLIuWGNZr5Qo",
        "outputId": "14ce3350-c963-46ee-c382-b5c729a67aed"
      },
      "execution_count": 34,
      "outputs": [
        {
          "output_type": "stream",
          "name": "stdout",
          "text": [
            "1-odd\n",
            "2-even\n",
            "3-odd\n",
            "4-even\n",
            "5-odd\n",
            "6-even\n",
            "7-odd\n",
            "8-even\n",
            "9-odd\n",
            "10-even\n",
            "11-odd\n",
            "12-even\n",
            "13-odd\n",
            "14-even\n",
            "15-odd\n"
          ]
        }
      ]
    },
    {
      "cell_type": "markdown",
      "source": [
        "Write a Python function that takes a positive integer and returns the sum of\n",
        "the cube of all the positive integers smaller than the specified number.\n",
        "Sample input: 4 Sample output: 36."
      ],
      "metadata": {
        "id": "_7iEQslG1VsI"
      }
    },
    {
      "cell_type": "code",
      "source": [
        "def sum_square(n):\n",
        "    result = 0\n",
        "    if n > 0:\n",
        "        for i in range(n):\n",
        "            result += i * i\n",
        "        return result\n",
        "    elif n <= 4:\n",
        "        raise ValueError(\"n should be positive\")\n",
        "        print(sum_square)"
      ],
      "metadata": {
        "id": "dA3QIBTDxVDn"
      },
      "execution_count": 41,
      "outputs": []
    },
    {
      "cell_type": "markdown",
      "source": [
        "Write a Python function to accept a string value from the user and display the\n",
        "count of each character in that string. Sample input: Enter a string value:\n",
        "assembly Sample output: a=1, s=2, e=1, m=1, b=1, l=1, y=1"
      ],
      "metadata": {
        "id": "mHp9j0551dR4"
      }
    },
    {
      "cell_type": "code",
      "source": [
        "def count_char(string):\n",
        "  counts = {}\n",
        "  for char in string:\n",
        "    if char not in counts:\n",
        "      counts[char] = 0\n",
        "    counts[char] += 1\n",
        "  return counts\n",
        "user_string = input(\"Enter a string value: \")\n",
        "char_counts = count_char(user_string)\n",
        "for char, count in char_counts.items():\n",
        "  print(f\"{char}={count}\")"
      ],
      "metadata": {
        "colab": {
          "base_uri": "https://localhost:8080/"
        },
        "id": "fnuMUoZ4xYy4",
        "outputId": "0a46293f-73a7-41d1-8c04-179c36c14171"
      },
      "execution_count": 44,
      "outputs": [
        {
          "output_type": "stream",
          "name": "stdout",
          "text": [
            "Enter a string value: hisan\n",
            "h=1\n",
            "i=1\n",
            "s=1\n",
            "a=1\n",
            "n=1\n"
          ]
        }
      ]
    }
  ]
}